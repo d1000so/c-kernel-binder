{
  "cells": [
    {
      "cell_type": "code",
      "execution_count": null,
      "metadata": {},
      "outputs": [],
      "source": [
        "#include <stdio.h>\n",
        "int main() {\n",
        "    printf(\"Hello, Binder!\\n\");\n",
        "    return 0;\n",
        "}"
      ]
    }
  ],
  "metadata": {
    "kernelspec": {
      "display_name": "C",
      "language": "c",
      "name": "cling"
    },
    "language_info": {
      "file_extension": ".c",
      "mimetype": "text/x-csrc",
      "name": "c"
    }
  },
  "nbformat": 4,
  "nbformat_minor": 5
}
